{
 "cells": [
  {
   "cell_type": "markdown",
   "metadata": {},
   "source": [
    "If you are starting this script for the first time and you do not have (or you are not sure if you have) the \"wwo-hist\" package installed, run the following block of code."
   ]
  },
  {
   "cell_type": "code",
   "execution_count": null,
   "metadata": {},
   "outputs": [],
   "source": [
    "import sys\n",
    "!{sys.executable} -m pip install wwo-hist"
   ]
  },
  {
   "cell_type": "markdown",
   "metadata": {},
   "source": [
    "After you have ensured that your Python has the required \"wwo-hist\" package, it is time to import it."
   ]
  },
  {
   "cell_type": "code",
   "execution_count": null,
   "metadata": {},
   "outputs": [],
   "source": [
    "import wwo_hist"
   ]
  },
  {
   "cell_type": "markdown",
   "metadata": {},
   "source": [
    "Before we can communicate with the API, we need to obtain an API key.\n",
    "Go to https://www.worldweatheronline.com/ and register for a free account in order to receive WWO API key."
   ]
  },
  {
   "cell_type": "markdown",
   "metadata": {},
   "source": [
    "Once you get the key, it is time to scrape the data through WWO API. \n",
    "Let us define variables that are required parameters in order to use the \"retrieve_hist_data\" function from \"wwo_hist\" package."
   ]
  },
  {
   "cell_type": "code",
   "execution_count": null,
   "metadata": {},
   "outputs": [],
   "source": [
    "key = \"\" # API key obtained from https://www.worldweatheronline.com/\n",
    "locations = [\"Belgrade\"] # list of strings containg US Zipcode, UK Postcode, Canada Postalcode, IP address, Latitude/Longitude (decimal degree) or city name  \n",
    "start = \"01-JAN-2019\" # date when desired scraping period starts; preferred date format: \"dd-mmm-yyyy\"\n",
    "end = \"01-JAN-2020\" # date when desired scraping period ends; preferred date format: \"dd-mmm-yyyy\"\n",
    "freq = 24 # frequency between observations; possible values 1 (1 hour), 3 (3 hours), 6 (6 hours), 12 (12 hours (day/night)) or 24 (daily averages)"
   ]
  },
  {
   "cell_type": "markdown",
   "metadata": {},
   "source": [
    "Now it is time to call the \"retreive_hist_data\" function. There are 3 additional arguments for it that we have not defined in the previous cell since they take boolean values:\n",
    "1. location_label - this one is set to \"False\" because we do not need all column names to have city name as prefix.\n",
    "2. export_csv - this one is set to \"True\" because we want to have a .CSV file as an output after running this script.\n",
    "3. store_df - this one is set to \"False\" because the purpose of this script is only to retreive historical weather data from WWO's site."
   ]
  },
  {
   "cell_type": "code",
   "execution_count": null,
   "metadata": {},
   "outputs": [],
   "source": [
    "hist_weather_data = wwo_hist.retrieve_hist_data(\n",
    "    api_key=key, \n",
    "    location_list=locations, \n",
    "    start_date=start, \n",
    "    end_date=end, \n",
    "    frequency=freq, \n",
    "    location_label = False, \n",
    "    export_csv = True, \n",
    "    store_df = True\n",
    ")"
   ]
  },
  {
   "cell_type": "markdown",
   "metadata": {},
   "source": [
    "That's it!\n",
    "\n",
    "Happy scraping! 😄"
   ]
  }
 ],
 "metadata": {
  "kernelspec": {
   "display_name": "Python 3",
   "language": "python",
   "name": "python3"
  },
  "language_info": {
   "codemirror_mode": {
    "name": "ipython",
    "version": 3
   },
   "file_extension": ".py",
   "mimetype": "text/x-python",
   "name": "python",
   "nbconvert_exporter": "python",
   "pygments_lexer": "ipython3",
   "version": "3.7.5"
  }
 },
 "nbformat": 4,
 "nbformat_minor": 2
}
