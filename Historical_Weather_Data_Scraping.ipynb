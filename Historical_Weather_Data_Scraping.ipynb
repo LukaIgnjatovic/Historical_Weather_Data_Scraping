{
 "cells": [
  {
   "cell_type": "markdown",
   "metadata": {},
   "source": [
    "If you are starting this script for the first time and you do not have (or you are not sure if you have) the \"wwo-hist\" package installed, run the following block of code."
   ]
  },
  {
   "cell_type": "code",
   "execution_count": null,
   "metadata": {},
   "outputs": [],
   "source": [
    "import sys\n",
    "!{sys.executable} -m pip install wwo-hist"
   ]
  },
  {
   "cell_type": "markdown",
   "metadata": {},
   "source": [
    "After you have ensured that your Python has the required \"wwo-hist\" package, it is time to import it."
   ]
  },
  {
   "cell_type": "code",
   "execution_count": 5,
   "metadata": {},
   "outputs": [],
   "source": [
    "import wwo_hist"
   ]
  },
  {
   "cell_type": "markdown",
   "metadata": {},
   "source": [
    "Before we can communicate with the API, we need to obtain an API key.\n",
    "Go to https://www.worldweatheronline.com/ and register for a free account in order to receive WWO API key."
   ]
  },
  {
   "cell_type": "markdown",
   "metadata": {},
   "source": [
    "Now it is time to scrape the data through WWO API. \n",
    "Let us define variables that are required parameters in order to use the \"retrieve_hist_data\" function from \"wwo_hist\" package."
   ]
  },
  {
   "cell_type": "code",
   "execution_count": 6,
   "metadata": {},
   "outputs": [],
   "source": [
    "key = \"\" # API key obtained from https://www.worldweatheronline.com/\n",
    "locations = [\"Belgrade\"] # list of strings containg US Zipcode, UK Postcode, Canada Postalcode, IP address, Latitude/Longitude (decimal degree) or city name  \n",
    "start = \"01-JAN-2019\" # date when desired scraping period starts; preferred date format: \"dd-mmm-yyyy\"\n",
    "end = \"01-JAN-2020\" # date when desired scraping period ends; preferred date format: \"dd-mmm-yyyy\"\n",
    "freq = 24 # frequency between observations; possible values 1 (1 hour), 3 (3 hours), 6 (6 hours), 12 (12 hours (day/night)) or 24 (daily averages)"
   ]
  },
  {
   "cell_type": "code",
   "execution_count": 7,
   "metadata": {},
   "outputs": [
    {
     "name": "stdout",
     "output_type": "stream",
     "text": [
      "\n",
      "\n",
      "Retrieving weather data for Belgrade\n",
      "\n",
      "\n",
      "Currently retrieving data for Belgrade: from 2020-01-01 to 2020-01-07\n",
      "Time elapsed (hh:mm:ss.ms) 0:00:00.292949\n",
      "\n",
      "\n",
      "export Belgrade completed!\n",
      "\n",
      "\n"
     ]
    }
   ],
   "source": [
    "hist_weather_data = wwo_hist.retrieve_hist_data(\n",
    "    api_key=key, \n",
    "    location_list=locations, \n",
    "    start_date=start, \n",
    "    end_date=end, \n",
    "    frequency=freq, \n",
    "    location_label = False, \n",
    "    export_csv = True, \n",
    "    store_df = True\n",
    ")"
   ]
  },
  {
   "cell_type": "markdown",
   "metadata": {},
   "source": [
    "That's it! Happy scraping!"
   ]
  }
 ],
 "metadata": {
  "kernelspec": {
   "display_name": "Python 3",
   "language": "python",
   "name": "python3"
  },
  "language_info": {
   "codemirror_mode": {
    "name": "ipython",
    "version": 3
   },
   "file_extension": ".py",
   "mimetype": "text/x-python",
   "name": "python",
   "nbconvert_exporter": "python",
   "pygments_lexer": "ipython3",
   "version": "3.7.5"
  }
 },
 "nbformat": 4,
 "nbformat_minor": 2
}
